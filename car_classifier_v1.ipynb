{
 "cells": [
  {
   "cell_type": "code",
   "execution_count": 4,
   "metadata": {},
   "outputs": [],
   "source": [
    "%reload_ext autoreload\n",
    "%autoreload 2\n",
    "%matplotlib inline\n",
    "from fastai.conv_learner import *"
   ]
  },
  {
   "cell_type": "code",
   "execution_count": 5,
   "metadata": {},
   "outputs": [],
   "source": [
    "PATH = 'data/car_classifier/'"
   ]
  },
  {
   "cell_type": "code",
   "execution_count": 6,
   "metadata": {},
   "outputs": [],
   "source": [
    "sz = 300\n",
    "arch = resnet50"
   ]
  },
  {
   "cell_type": "code",
   "execution_count": 7,
   "metadata": {},
   "outputs": [],
   "source": [
    "tfms = tfms_from_model(arch, sz, aug_tfms=transforms_side_on, max_zoom=1.1)"
   ]
  },
  {
   "cell_type": "code",
   "execution_count": 8,
   "metadata": {},
   "outputs": [],
   "source": [
    "data = ImageClassifierData.from_paths(PATH, tfms=tfms, trn_name='train', val_name='valid')"
   ]
  },
  {
   "cell_type": "code",
   "execution_count": 9,
   "metadata": {},
   "outputs": [
    {
     "name": "stdout",
     "output_type": "stream",
     "text": [
      "100%|██████████| 7/7 [00:08<00:00,  1.25s/it]\n",
      "100%|██████████| 2/2 [00:03<00:00,  1.56s/it]\n"
     ]
    }
   ],
   "source": [
    "learn = ConvLearner.pretrained(arch, data, precompute=True)"
   ]
  },
  {
   "cell_type": "code",
   "execution_count": 12,
   "metadata": {},
   "outputs": [
    {
     "data": {
      "application/vnd.jupyter.widget-view+json": {
       "model_id": "a9cd06e6b2334bcbb077ac00beadc7c1",
       "version_major": 2,
       "version_minor": 0
      },
      "text/plain": [
       "HBox(children=(IntProgress(value=0, description='Epoch', max=14), HTML(value='')))"
      ]
     },
     "metadata": {},
     "output_type": "display_data"
    },
    {
     "name": "stdout",
     "output_type": "stream",
     "text": [
      "epoch      trn_loss   val_loss   accuracy       \n",
      "    0      1.848725   1.385836   0.428571  \n",
      "    1      1.323034   1.058247   0.714286       \n",
      "    2      1.036978   0.627847   0.84127        \n",
      "    3      0.806128   0.485869   0.84127         \n",
      "    4      0.651433   0.433663   0.865079        \n",
      "    5      0.552174   0.410225   0.896825        \n",
      "    6      0.477801   0.374794   0.880952        \n",
      "    7      0.414407   0.350718   0.880952        \n",
      "    8      0.366382   0.343763   0.865079        \n",
      "    9      0.319384   0.344468   0.888889        \n",
      "    10     0.279639   0.342767   0.888889        \n",
      "    11     0.250854   0.338493   0.896825        \n",
      "    12     0.222494   0.336631   0.896825        \n",
      "    13     0.201626   0.336948   0.904762        \n",
      "\n"
     ]
    },
    {
     "data": {
      "text/plain": [
       "[array([0.33695]), 0.9047618981391664]"
      ]
     },
     "execution_count": 12,
     "metadata": {},
     "output_type": "execute_result"
    }
   ],
   "source": [
    "learn.fit(1e-2, 3, cycle_len=2, cycle_mult=2)"
   ]
  },
  {
   "cell_type": "code",
   "execution_count": 13,
   "metadata": {},
   "outputs": [],
   "source": [
    "learn = ConvLearner.pretrained(arch, data, precompute=False)"
   ]
  },
  {
   "cell_type": "code",
   "execution_count": 14,
   "metadata": {},
   "outputs": [
    {
     "data": {
      "application/vnd.jupyter.widget-view+json": {
       "model_id": "58d4ab1d71bc4070bf16e5fab785efe1",
       "version_major": 2,
       "version_minor": 0
      },
      "text/plain": [
       "HBox(children=(IntProgress(value=0, description='Epoch', max=14), HTML(value='')))"
      ]
     },
     "metadata": {},
     "output_type": "display_data"
    },
    {
     "name": "stdout",
     "output_type": "stream",
     "text": [
      "epoch      trn_loss   val_loss   accuracy               \n",
      "    0      1.869797   1.506088   0.357143  \n",
      "    1      1.434732   1.176705   0.579365               \n",
      "    2      1.167492   0.679568   0.769841               \n",
      "    3      0.981185   0.49155    0.84127                 \n",
      "    4      0.836155   0.427715   0.873016                \n",
      "    5      0.742524   0.394409   0.888889                \n",
      "    6      0.67425    0.342299   0.912698                \n",
      "    7      0.610774   0.322224   0.896825                \n",
      "    8      0.554409   0.304059   0.896825                \n",
      "    9      0.503399   0.287113   0.912698                \n",
      "    10     0.459349   0.283794   0.920635                \n",
      "    11     0.420935   0.28381    0.920635                \n",
      "    12     0.392792   0.281714   0.920635                \n",
      "    13     0.366338   0.278345   0.920635                \n",
      "\n"
     ]
    },
    {
     "data": {
      "text/plain": [
       "[array([0.27834]), 0.9206349140121823]"
      ]
     },
     "execution_count": 14,
     "metadata": {},
     "output_type": "execute_result"
    }
   ],
   "source": [
    "learn.fit(1e-2, 3, cycle_len=2, cycle_mult=2)"
   ]
  },
  {
   "cell_type": "code",
   "execution_count": 3,
   "metadata": {},
   "outputs": [],
   "source": []
  },
  {
   "cell_type": "code",
   "execution_count": null,
   "metadata": {},
   "outputs": [],
   "source": []
  }
 ],
 "metadata": {
  "kernelspec": {
   "display_name": "Python 3",
   "language": "python",
   "name": "python3"
  },
  "language_info": {
   "codemirror_mode": {
    "name": "ipython",
    "version": 3
   },
   "file_extension": ".py",
   "mimetype": "text/x-python",
   "name": "python",
   "nbconvert_exporter": "python",
   "pygments_lexer": "ipython3",
   "version": "3.6.5"
  }
 },
 "nbformat": 4,
 "nbformat_minor": 2
}
